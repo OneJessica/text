{
 "cells": [
  {
   "cell_type": "code",
   "execution_count": 6,
   "id": "484ab91b-4c42-4f8d-8865-e5ee71a2b45b",
   "metadata": {},
   "outputs": [],
   "source": [
    "from easy_sql import connect"
   ]
  },
  {
   "cell_type": "code",
   "execution_count": 8,
   "id": "659026b7-209b-4157-8c61-5e87e84bffaa",
   "metadata": {},
   "outputs": [],
   "source": [
    "conn = connect(88,3307)"
   ]
  },
  {
   "cell_type": "code",
   "execution_count": 9,
   "id": "e70580d9-552f-4d32-9e99-c6bf277886e6",
   "metadata": {},
   "outputs": [],
   "source": [
    "conn.close()"
   ]
  },
  {
   "cell_type": "code",
   "execution_count": null,
   "id": "3ba8f041-2cf4-4b22-bdf7-2c090c48a9ee",
   "metadata": {},
   "outputs": [],
   "source": []
  }
 ],
 "metadata": {
  "kernelspec": {
   "display_name": "Python 3 (ipykernel)",
   "language": "python",
   "name": "python3"
  },
  "language_info": {
   "codemirror_mode": {
    "name": "ipython",
    "version": 3
   },
   "file_extension": ".py",
   "mimetype": "text/x-python",
   "name": "python",
   "nbconvert_exporter": "python",
   "pygments_lexer": "ipython3",
   "version": "3.9.12"
  }
 },
 "nbformat": 4,
 "nbformat_minor": 5
}
